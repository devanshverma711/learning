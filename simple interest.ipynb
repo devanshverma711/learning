{
 "cells": [
  {
   "cell_type": "code",
   "execution_count": 1,
   "metadata": {},
   "outputs": [
    {
     "name": "stdout",
     "output_type": "stream",
     "text": [
      "Enter the principal amount : 1000\n",
      "Enter the number of years : 2\n",
      "Enter the rate of interest : 2\n",
      "Simple interest : 40.0\n"
     ]
    }
   ],
   "source": [
    "def simple_interest(): \n",
    "        SI = (p * t * r/100)\n",
    "        print(\"Simple interest : {}\".format(SI))\n",
    "    \n",
    "    \n",
    "p= float(input(\"Enter the principal amount : \"))\n",
    "t= float(input(\"Enter the number of years : \"))\n",
    "r= float(input(\"Enter the rate of interest : \"))\n",
    "simple_interest()\n",
    "      \n",
    "  \n",
    "      \n"
   ]
  },
  {
   "cell_type": "code",
   "execution_count": null,
   "metadata": {},
   "outputs": [],
   "source": []
  }
 ],
 "metadata": {
  "kernelspec": {
   "display_name": "Python 3",
   "language": "python",
   "name": "python3"
  },
  "language_info": {
   "codemirror_mode": {
    "name": "ipython",
    "version": 3
   },
   "file_extension": ".py",
   "mimetype": "text/x-python",
   "name": "python",
   "nbconvert_exporter": "python",
   "pygments_lexer": "ipython3",
   "version": "3.8.3"
  }
 },
 "nbformat": 4,
 "nbformat_minor": 4
}
